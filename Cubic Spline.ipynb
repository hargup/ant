{
 "cells": [
  {
   "cell_type": "markdown",
   "metadata": {},
   "source": [
    "# Cubic Spline Fitting\n",
    "\n"
   ]
  },
  {
   "cell_type": "markdown",
   "metadata": {},
   "source": [
    "Given a set of points $((x_0, y_0), (x_1, y_1), ...,  (x_n, y_n) $ we have to fit a cubic polynomial between the points such the curve is continuous, and a continous derivative and continous curvature. Lets call this curve $S(x) $\n",
    "\n",
    "$$ S(x) = \\{p^{(k)}(x) | x_k \\leq x \\leq x_{k+1} \\}$$\n",
    "where $p^{(k)}$ satisfies the following conditions\n",
    "\n",
    "$$ p^{(k-1)}(x_k) = p^{(k)}(x_k) $$\n",
    "$$ p^{'(k-1)}(x_k) = p^{'(k)}(x_k) $$\n",
    "$$ p^{''(k-1)}(x_k) = p^{''(k)}(x_k) $$\n",
    "\n",
    "Let $M_k = S''(x_k)$ for $k=0, 1, 2, ... N$\n",
    "then\n",
    "$$p^{''(k)}(x) = M_k \\frac{x - x_{k+1}}{x_k - x_{k+1}} + M_{k+1} \\frac{x - x_{k}}{x_{k+1} - x_{k}}$$\n",
    "\n",
    "Intergrating and solving for arbitary constants using the other conditions we get:\n",
    "\n",
    "$$p^{(k)}(x) = \\frac{M_k}{6h} ((x_{k+1} - x)^3 - h (x_{k+1} - x)) + \\frac{M_{k+1}}{6h} ((x - x_k)^3 -h (x - x_k)) + $$\n",
    "$$ [ \\frac{y_{k}}{h} (x_{k+1} - x) + \\frac{y_{k+1}}{h} (x - x_k) ] $$\n",
    "\n",
    "where $h$ is $(x_{k+1} - x_{k})$.\n",
    "\n",
    "Substituting $x$ with $x_{k-1}, x_{k}$ and $x_{k+1}$ in the above equation we get the following tridiagonal system:\n",
    "\n",
    "$$ M_{k+1} + 4 M_{k} + M_{k-1} = \\frac{6}{h^2} [ f_{k-1} - 2 f_k + f_{k+1} ] $$\n",
    "\n",
    "$$ k = 0 , \\cdots , n $$\n",
    "\n",
    "given the values of $M_0$ and $M_n$ the system can be solved efficiently using the Thomas Algorithm.\n"
   ]
  },
  {
   "cell_type": "code",
   "execution_count": 1,
   "metadata": {
    "collapsed": true
   },
   "outputs": [],
   "source": [
    "# Code for Cubic Spline problem\n",
    "def cubic_spline(X, Y, M_0, M_n):\n",
    "    # Assuming constant spacing\n",
    "    h = X[1] - X[0]\n",
    "    n = len(X)\n",
    "    A = [1 for i in range(n-2)]\n",
    "    B = [4 for i in range(n-2)]\n",
    "    C = [1 for i in range(n-2)]\n",
    "    D = [(6/h**2)*(Y[i-1] - 2*Y[i] + Y[i+1]) for i in range(1, n-1)]\n",
    "\n",
    "    M = [M_0] + thomas_algorithm(A, B, C, D) + [M_n]\n",
    "\n",
    "    X_ = []\n",
    "    Y_ = []\n",
    "    for k in range(n-1):\n",
    "        dx = h/10\n",
    "        for i in range(10):\n",
    "            x = X[k] + i*dx\n",
    "            y = (M[k]/(6*h))*((X[k+1] - x)**3 - h*(X[k+1] - x)) + (M[k+1]/(6*h))*((x - X[k])**3 - h*(x - X[k]))+ \\\n",
    "                    Y[k]*(X[k+1] - x)/h + Y[k+1]*(x - X[k])/h\n",
    "            X_.append(x)\n",
    "            Y_.append(y)\n",
    "\n",
    "    return (X_, Y_)"
   ]
  },
  {
   "cell_type": "code",
   "execution_count": 2,
   "metadata": {
    "collapsed": false
   },
   "outputs": [],
   "source": [
    "%matplotlib inline\n",
    "import matplotlib.pyplot as plt\n",
    "import numpy as np\n",
    "from thomas_algo import thomas_algorithm\n",
    "X = np.linspace(0, 20, 10)\n",
    "Y = np.sin(X)\n",
    "X_, Y_ = cubic_spline(X, Y, 0, 0)"
   ]
  },
  {
   "cell_type": "code",
   "execution_count": 3,
   "metadata": {
    "collapsed": false
   },
   "outputs": [
    {
     "data": {
      "text/plain": [
       "[0, 20, -1, 1]"
      ]
     },
     "execution_count": 3,
     "metadata": {},
     "output_type": "execute_result"
    },
    {
     "data": {
      "image/png": "[encoded data removed]",
      "text/plain": [
       "<matplotlib.figure.Figure at 0x7fd07ceb7650>"
      ]
     },
     "metadata": {},
     "output_type": "display_data"
    }
   ],
   "source": [
    "plt.plot(X, Y); plt.axis([0, 20, -1, 1])"
   ]
  },
  {
   "cell_type": "code",
   "execution_count": 4,
   "metadata": {
    "collapsed": false
   },
   "outputs": [
    {
     "data": {
      "text/plain": [
       "[0, 20, -1, 1]"
      ]
     },
     "execution_count": 4,
     "metadata": {},
     "output_type": "execute_result"
    },
    {
     "data": {
      "image/png": "[encoded data removed]",
      "text/plain": [
       "<matplotlib.figure.Figure at 0x7fd05ec0e910>"
      ]
     },
     "metadata": {},
     "output_type": "display_data"
    }
   ],
   "source": [
    "plt.plot(X_, Y_); plt.axis([0, 20, -1, 1])"
   ]
  },
  {
   "cell_type": "code",
   "execution_count": 1,
   "metadata": {
    "collapsed": false
   },
   "outputs": [
    {
     "data": {
      "text/html": [
       "<link href='http://fonts.googleapis.com/css?family=Alegreya+Sans:100,300,400,500,700,800,900,100italic,300italic,400italic,500italic,700italic,800italic,900italic' rel='stylesheet' type='text/css'>\n",
       "<link href='http://fonts.googleapis.com/css?family=Arvo:400,700,400italic' rel='stylesheet' type='text/css'>\n",
       "<link href='http://fonts.googleapis.com/css?family=PT+Mono' rel='stylesheet' type='text/css'>\n",
       "<link href='http://fonts.googleapis.com/css?family=Shadows+Into+Light' rel='stylesheet' type='text/css'>\n",
       "<link href='http://fonts.googleapis.com/css?family=Nixie+One' rel='stylesheet' type='text/css'>\n",
       "<style>\n",
       "\n",
       "@font-face {\n",
       "    font-family: \"Computer Modern\";\n",
       "    src: url('http://mirrors.ctan.org/fonts/cm-unicode/fonts/otf/cmunss.otf');\n",
       "}\n",
       "\n",
       "#notebook_panel { /* main background */\n",
       "    background: rgb(245,245,245);\n",
       "}\n",
       "\n",
       "div.cell { /* set cell width */\n",
       "    width: 750px;\n",
       "}\n",
       "\n",
       "div #notebook { /* centre the content */\n",
       "    background: #fff; /* white background for content */\n",
       "    width: 1000px;\n",
       "    margin: auto;\n",
       "    padding-left: 0em;\n",
       "}\n",
       "\n",
       "#notebook li { /* More space between bullet points */\n",
       "margin-top:0.8em;\n",
       "}\n",
       "\n",
       "/* draw border around running cells */\n",
       "div.cell.border-box-sizing.code_cell.running { \n",
       "    border: 1px solid #111;\n",
       "}\n",
       "\n",
       "/* Put a solid color box around each cell and its output, visually linking them*/\n",
       "div.cell.code_cell {\n",
       "    background-color: rgb(256,256,256); \n",
       "    border-radius: 0px; \n",
       "    padding: 0.5em;\n",
       "    margin-left:1em;\n",
       "    margin-top: 1em;\n",
       "}\n",
       "\n",
       "div.text_cell_render{\n",
       "    font-family: 'Alegreya Sans' sans-serif;\n",
       "    line-height: 140%;\n",
       "    font-size: 125%;\n",
       "    font-weight: 400;\n",
       "    width:600px;\n",
       "    margin-left:auto;\n",
       "    margin-right:auto;\n",
       "}\n",
       "\n",
       "\n",
       "/* Formatting for header cells */\n",
       ".text_cell_render h1 {\n",
       "    font-family: 'Nixie One', serif;\n",
       "    font-style:regular;\n",
       "    font-weight: 400;    \n",
       "    font-size: 45pt;\n",
       "    line-height: 100%;\n",
       "    color: rgb(0,51,102);\n",
       "    margin-bottom: 0.5em;\n",
       "    margin-top: 0.5em;\n",
       "    display: block;\n",
       "}\t\n",
       ".text_cell_render h2 {\n",
       "    font-family: 'Nixie One', serif;\n",
       "    font-weight: 400;\n",
       "    font-size: 30pt;\n",
       "    line-height: 100%;\n",
       "    color: rgb(0,51,102);\n",
       "    margin-bottom: 0.1em;\n",
       "    margin-top: 0.3em;\n",
       "    display: block;\n",
       "}\t\n",
       "\n",
       ".text_cell_render h3 {\n",
       "    font-family: 'Nixie One', serif;\n",
       "    margin-top:16px;\n",
       "\tfont-size: 22pt;\n",
       "    font-weight: 600;\n",
       "    margin-bottom: 3px;\n",
       "    font-style: regular;\n",
       "    color: rgb(102,102,0);\n",
       "}\n",
       "\n",
       ".text_cell_render h4 {    /*Use this for captions*/\n",
       "    font-family: 'Nixie One', serif;\n",
       "    font-size: 14pt;\n",
       "    text-align: center;\n",
       "    margin-top: 0em;\n",
       "    margin-bottom: 2em;\n",
       "    font-style: regular;\n",
       "}\n",
       "\n",
       ".text_cell_render h5 {  /*Use this for small titles*/\n",
       "    font-family: 'Nixie One', sans-serif;\n",
       "    font-weight: 400;\n",
       "    font-size: 16pt;\n",
       "    color: rgb(163,0,0);\n",
       "    font-style: italic;\n",
       "    margin-bottom: .1em;\n",
       "    margin-top: 0.8em;\n",
       "    display: block;\n",
       "}\n",
       "\n",
       ".text_cell_render h6 { /*use this for copyright note*/\n",
       "    font-family: 'PT Mono', sans-serif;\n",
       "    font-weight: 300;\n",
       "    font-size: 9pt;\n",
       "    line-height: 100%;\n",
       "    color: grey;\n",
       "    margin-bottom: 1px;\n",
       "    margin-top: 1px;\n",
       "}\n",
       "\n",
       ".CodeMirror{\n",
       "        font-family: \"PT Mono\";\n",
       "        font-size: 90%;\n",
       "}\n",
       "\n",
       "</style>\n",
       "<script>\n",
       "    MathJax.Hub.Config({\n",
       "                        TeX: {\n",
       "                           extensions: [\"AMSmath.js\"],\n",
       "                           equationNumbers: { autoNumber: \"AMS\", useLabelIds: true}\n",
       "                           },\n",
       "                tex2jax: {\n",
       "                    inlineMath: [ ['$','$'], [\"\\\\(\",\"\\\\)\"] ],\n",
       "                    displayMath: [ ['$$','$$'], [\"\\\\[\",\"\\\\]\"] ]\n",
       "                },\n",
       "                displayAlign: 'center', // Change this to 'center' to center equations.\n",
       "                \"HTML-CSS\": {\n",
       "                    styles: {'.MathJax_Display': {\"margin\": 4}}\n",
       "                }\n",
       "        });\n",
       "</script>\n"
      ],
      "text/plain": [
       "<IPython.core.display.HTML object>"
      ]
     },
     "execution_count": 1,
     "metadata": {},
     "output_type": "execute_result"
    }
   ],
   "source": [
    "# Execute this cell to load the notebook's style sheet, then ignore it\n",
    "# The stylesheets are taken from the numerical methods mooc at\n",
    "# http://openedx.seas.gwu.edu/courses/GW/MAE6286/2014_fall/info\n",
    "from IPython.core.display import HTML\n",
    "css_file = './styles/numericalmoocstyle.css'\n",
    "HTML(open(css_file, \"r\").read())"
   ]
  }
 ],
 "metadata": {
  "kernelspec": {
   "display_name": "Python 2",
   "language": "python",
   "name": "python2"
  },
  "language_info": {
   "codemirror_mode": {
    "name": "ipython",
    "version": 2
   },
   "file_extension": ".py",
   "mimetype": "text/x-python",
   "name": "python",
   "nbconvert_exporter": "python",
   "pygments_lexer": "ipython2",
   "version": "2.7.9"
  }
 },
 "nbformat": 4,
 "nbformat_minor": 0
}
