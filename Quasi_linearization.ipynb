{
 "cells": [
  {
   "cell_type": "code",
   "execution_count": 1,
   "metadata": {
    "collapsed": true
   },
   "outputs": [],
   "source": [
    "# Using Thomas algorithm to solve the linear BVP\n",
    "import sys\n",
    "import numpy as np\n",
    "import matplotlib.pyplot as plt\n",
    "from thomas_algo import thomas_algorithm"
   ]
  },
  {
   "cell_type": "markdown",
   "metadata": {},
   "source": [
    "We are using the Quasi Linearization Technique to solve the equation\n",
    "$$ y'' - 5 x y' + y^2 $$\n",
    "For the Boundary conditions\n",
    "$$y(-1) = 4$$\n",
    "$$y(1) = -4$$"
   ]
  },
  {
   "cell_type": "code",
   "execution_count": 2,
   "metadata": {
    "collapsed": false
   },
   "outputs": [],
   "source": [
    "def eval_y2(y, h):\n",
    "    return [(y[i+1] + y[i-1] - 2*y[i])/h**2 for i in range(1, len(y)-1)]\n",
    "\n",
    "def eval_y1(y, h):\n",
    "    return [(y[i] - y[i-1])/h for i in range(1, len(y)-1)]\n",
    "\n",
    "def eval_y(y, h):\n",
    "    return y[1:-1]\n",
    "    \n",
    "def evalF(B, D, F, X):\n",
    "    return [(B[i] - 5*X[i]*D[i] + F[i]**2) for i in range(len(B))]\n",
    "\n",
    "def eval_part_y2(B, D, F, X) :\n",
    "    return [1 for i in range(len(B))] \n",
    "\n",
    "def eval_part_y1(B, D, F, X) :\n",
    "    return [-5*X[i] for i in range(len(B))]\n",
    "\n",
    "def eval_part_y(B, D, F, X) :\n",
    "    return [2*F[i] for i in range(len(B))]\n",
    "\n",
    "\n",
    "def Quasi(initial_cond, final_cond, h):\n",
    "    l, y_l = initial_cond\n",
    "    r, y_r = final_cond\n",
    "    N = (r - l)/h\n",
    "    N = int(N)\n",
    "\n",
    "    X = np.linspace(l, r, N)\n",
    "    y_init = [((x-l)*y_r + (r-x)*y_l)/(r-l) for x in X]\n",
    "    B = eval_y2(y_init,h)\n",
    "    D = eval_y1(y_init,h)\n",
    "    F = eval_y(y_init,h)\n",
    "    A = evalF(B, D, F, X)\n",
    "    C = eval_part_y2(B, D, F, X)\n",
    "    E = eval_part_y1(B, D, F, X)\n",
    "    G = eval_part_y(B, D, F, X)\n",
    "    \n",
    "    loop = 0\n",
    "    while True :\n",
    "        loop+=1\n",
    "        \n",
    "        a = [None for i in X[1:-1]]\n",
    "        b = [None for i in X[1:-1]]\n",
    "        c = [None for i in X[1:-1]]\n",
    "        d = [None for i in X[1:-1]]\n",
    "        \n",
    "        for i in range(len(a)):\n",
    "            a[i] = C[i]/(h**2) - E[i]/h\n",
    "            b[i] = (-2*C[i]/(h**2) + E[i]/h + G[i])\n",
    "            c[i] = C[i]/(h**2)\n",
    "            d[i] = B[i]*C[i] + D[i]*E[i] + F[i]*G[i] - A[i]\n",
    "\n",
    "        d[0] -= y_l*a[0]\n",
    "        d[-1] -= y_r*c[-1]\n",
    "\n",
    "        f = [y_l] + thomas_algorithm(a, b, c, d) + [y_r]\n",
    "        y_init = f\n",
    "        B = eval_y2(y_init,h)\n",
    "        D = eval_y1(y_init,h)\n",
    "        F = eval_y(y_init,h)\n",
    "        A = evalF(B, D, F, X)\n",
    "        C = eval_part_y2(B, D, F, X)\n",
    "        E = eval_part_y1(B, D, F, X)\n",
    "        G = eval_part_y(B, D, F, X)\n",
    "\n",
    "        if( loop > 15) :\n",
    "            break\n",
    "        \n",
    "    return X, f"
   ]
  },
  {
   "cell_type": "code",
   "execution_count": 3,
   "metadata": {
    "collapsed": false
   },
   "outputs": [
    {
     "data": {
      "text/plain": [
       "[<matplotlib.lines.Line2D at 0x7f96edc8dc90>]"
      ]
     },
     "execution_count": 3,
     "metadata": {},
     "output_type": "execute_result"
    },
    {
     "data": {
      "image/png": "[encoded data removed]",
      "text/plain": [
       "<matplotlib.figure.Figure at 0x7f96f28e8bd0>"
      ]
     },
     "metadata": {},
     "output_type": "display_data"
    }
   ],
   "source": [
    "X, f = Quasi((-1, 4), (1, -4), 0.01)\n",
    "%matplotlib inline\n",
    "plt.plot(X,f)"
   ]
  }
 ],
 "metadata": {
  "kernelspec": {
   "display_name": "Python 2",
   "language": "python",
   "name": "python2"
  },
  "language_info": {
   "codemirror_mode": {
    "name": "ipython",
    "version": 2
   },
   "file_extension": ".py",
   "mimetype": "text/x-python",
   "name": "python",
   "nbconvert_exporter": "python",
   "pygments_lexer": "ipython2",
   "version": "2.7.9"
  }
 },
 "nbformat": 4,
 "nbformat_minor": 0
}
