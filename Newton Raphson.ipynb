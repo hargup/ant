{
 "cells": [
  {
   "cell_type": "code",
   "execution_count": 3,
   "metadata": {
    "collapsed": true
   },
   "outputs": [],
   "source": [
    "def newton_raphson(x_, f, df, epsilon=0.00001):\n",
    "    n = 1\n",
    "    while True:\n",
    "        x = x_ - f(x_)/df(x_)\n",
    "        if abs(x - x_) < epsilon:\n",
    "            return x\n",
    "        x_ = x\n",
    "        print \"Value of x after %s iterations is: %s\" % (n, x_)\n",
    "        n = n+1\n",
    "        if n > 50:\n",
    "            print \"Divergent too many iterations\""
   ]
  },
  {
   "cell_type": "code",
   "execution_count": 4,
   "metadata": {
    "collapsed": false
   },
   "outputs": [
    {
     "name": "stdout",
     "output_type": "stream",
     "text": [
      "Value of x after 1 iterations is: 0.620015952247\n",
      "Value of x after 2 iterations is: 0.607120658147\n",
      "Value of x after 3 iterations is: 0.607101648145\n"
     ]
    },
    {
     "data": {
      "text/plain": [
       "0.60710164810312273"
      ]
     },
     "execution_count": 4,
     "metadata": {},
     "output_type": "execute_result"
    }
   ],
   "source": [
    "import numpy as np\n",
    "f = lambda x: np.cos(x)-3*x+1\n",
    "df = lambda x: -np.sin(x) - 3\n",
    "newton_raphson(1, f, df)"
   ]
  },
  {
   "cell_type": "code",
   "execution_count": null,
   "metadata": {
    "collapsed": true
   },
   "outputs": [],
   "source": []
  }
 ],
 "metadata": {
  "kernelspec": {
   "display_name": "Python 2",
   "language": "python",
   "name": "python2"
  },
  "language_info": {
   "codemirror_mode": {
    "name": "ipython",
    "version": 2
   },
   "file_extension": ".py",
   "mimetype": "text/x-python",
   "name": "python",
   "nbconvert_exporter": "python",
   "pygments_lexer": "ipython2",
   "version": "2.7.9"
  }
 },
 "nbformat": 4,
 "nbformat_minor": 0
}
